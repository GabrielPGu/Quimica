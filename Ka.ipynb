{
  "nbformat": 4,
  "nbformat_minor": 0,
  "metadata": {
    "colab": {
      "provenance": [],
      "authorship_tag": "ABX9TyMDnZrH+nIjEcld9o7XUh8M",
      "include_colab_link": true
    },
    "kernelspec": {
      "name": "python3",
      "display_name": "Python 3"
    },
    "language_info": {
      "name": "python"
    }
  },
  "cells": [
    {
      "cell_type": "markdown",
      "metadata": {
        "id": "view-in-github",
        "colab_type": "text"
      },
      "source": [
        "<a href=\"https://colab.research.google.com/github/GabrielPGu/Quimica/blob/main/Ka.ipynb\" target=\"_parent\"><img src=\"https://colab.research.google.com/assets/colab-badge.svg\" alt=\"Open In Colab\"/></a>"
      ]
    },
    {
      "cell_type": "markdown",
      "source": [
        "$$\\Large \\textit{UNMSM | Química}$$\n",
        "\n",
        "---\n",
        "\n",
        "\n",
        "$$\\large \\textbf{Ka}$$\n",
        "\n",
        "_Profesor: Jesus Alvarado Huayhuaz_\n",
        "\n",
        "_Alumno: Poma Gutierrez Gabriel_"
      ],
      "metadata": {
        "id": "GCIcoa045V-z"
      }
    },
    {
      "cell_type": "code",
      "execution_count": 1,
      "metadata": {
        "colab": {
          "base_uri": "https://localhost:8080/"
        },
        "id": "WZcpQTd45UdL",
        "outputId": "3db87130-af41-41a6-8875-741f47d68f05"
      },
      "outputs": [
        {
          "output_type": "stream",
          "name": "stdout",
          "text": [
            "Debes ingresar los datos de la siguiente manera: reactivo 1 + reactivo 2 <-> cation + anion\n",
            "- Usa letras mayúsculas y minúsculas para los símbolos de los elementos, por ejemplo: H2O, CO2, CH4.\n",
            "- Usa números subíndices para indicar los coeficientes estequiométricos, por ejemplo: H2O, CO2, CH4.\n",
            "- Usa el signo + para separar los reactivos y los productos, por ejemplo: H2O + CO2 <-> H2CO3.\n",
            "- Usa el signo <-> para indicar la dirección de la reacción, por ejemplo: H2O + CO2 <-> H2CO3.\n",
            "- Usa espacios entre los signos + y <->, por ejemplo: H2O + CO2 <-> H2CO3.\n",
            "- No uses paréntesis ni corchetes, por ejemplo: NO escribas (H2O) + (CO2) <-> [H2CO3].\n",
            "Introduce la ecuación química del ácido y su disociación: CH3COOH + H2O <-> H3O + CH3COO+ \n",
            "El Ka se puede escribir como: Ka = CH3COO*H3O/CH3COOH\n"
          ]
        }
      ],
      "source": [
        "import sympy\n",
        "\n",
        "print(\"Debes ingresar los datos de la siguiente manera: reactivo 1 + reactivo 2 <-> cation + anion\")\n",
        "print(\"- Usa letras mayúsculas y minúsculas para los símbolos de los elementos, por ejemplo: H2O, CO2, CH4.\")\n",
        "print(\"- Usa números subíndices para indicar los coeficientes estequiométricos, por ejemplo: H2O, CO2, CH4.\")\n",
        "print(\"- Usa el signo + para separar los reactivos y los productos, por ejemplo: H2O + CO2 <-> H2CO3.\")\n",
        "print(\"- Usa el signo <-> para indicar la dirección de la reacción, por ejemplo: H2O + CO2 <-> H2CO3.\")\n",
        "print(\"- Usa espacios entre los signos + y <->, por ejemplo: H2O + CO2 <-> H2CO3.\")\n",
        "print(\"- No uses paréntesis ni corchetes, por ejemplo: NO escribas (H2O) + (CO2) <-> [H2CO3].\")\n",
        "\n",
        "ecuacion = input(\"Introduce la ecuación química del ácido y su disociación: \")\n",
        "\n",
        "\n",
        "try:\n",
        "    ecuacion = str(ecuacion)\n",
        "    if not ecuacion:\n",
        "        raise ValueError\n",
        "except ValueError:\n",
        "    print(\"Valor inválido. Debe ser una cadena no vacía.\")\n",
        "    exit()\n",
        "\n",
        "reactivos, productos = ecuacion.split(\"<->\")\n",
        "\n",
        "reactivos = reactivos.split(\"+\")\n",
        "productos = productos.split(\"+\")\n",
        "\n",
        "reactivos = [r.strip() for r in reactivos]\n",
        "productos = [p.strip() for p in productos]\n",
        "\n",
        "acido = reactivos[0]\n",
        "anion = productos[1]\n",
        "\n",
        "hidrogeno = productos[0]\n",
        "\n",
        "acido = sympy.Symbol(acido)\n",
        "anion = sympy.Symbol(anion)\n",
        "hidrogeno = sympy.Symbol(hidrogeno)\n",
        "\n",
        "expresion_Ka = (anion * hidrogeno) / acido\n",
        "\n",
        "print(f\"El Ka se puede escribir como: Ka = {expresion_Ka}\")"
      ]
    }
  ]
}