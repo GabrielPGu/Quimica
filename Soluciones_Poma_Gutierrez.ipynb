{
  "nbformat": 4,
  "nbformat_minor": 0,
  "metadata": {
    "colab": {
      "provenance": [],
      "authorship_tag": "ABX9TyNl+reWPX8a9u5tzRgLV04R",
      "include_colab_link": true
    },
    "kernelspec": {
      "name": "python3",
      "display_name": "Python 3"
    },
    "language_info": {
      "name": "python"
    }
  },
  "cells": [
    {
      "cell_type": "markdown",
      "metadata": {
        "id": "view-in-github",
        "colab_type": "text"
      },
      "source": [
        "<a href=\"https://colab.research.google.com/github/GabrielPGu/Quimica/blob/main/Soluciones_Poma_Gutierrez.ipynb\" target=\"_parent\"><img src=\"https://colab.research.google.com/assets/colab-badge.svg\" alt=\"Open In Colab\"/></a>"
      ]
    },
    {
      "cell_type": "markdown",
      "source": [
        "#**Líquidos y Soluciones**"
      ],
      "metadata": {
        "id": "GN1lRdosOi48"
      }
    },
    {
      "cell_type": "markdown",
      "source": [
        "**Alumno:** *Poma Gutierrez Gabriel - 23200110*\n",
        "\n",
        "**Profesor:** *Jesús Alvarado Huayhuaz*"
      ],
      "metadata": {
        "id": "KpqHiJTtOkRD"
      }
    },
    {
      "cell_type": "markdown",
      "source": [
        "## **1. Fuerzas intermoleculares:**\n"
      ],
      "metadata": {
        "id": "TSWYTBinOmYC"
      }
    },
    {
      "cell_type": "markdown",
      "source": [
        "1. Proponga un ejemplo para cada tipo de fuerzas intermoleculares:\n",
        "\n",
        "*   Interaccion dipolo-dipolo\n",
        "*   Interaccion dipolo-dipolo inducido\n",
        "*   Interaccion ion-dipolo\n",
        "*   Fuerzas de dispersion\n",
        "*   Fuerzas de Van Der Waals\n",
        "\n"
      ],
      "metadata": {
        "id": "Kqma5M8UbAGe"
      }
    },
    {
      "cell_type": "markdown",
      "source": [
        "**Interacción dipolo-dipolo:** H2O\n",
        "\n",
        "Las interacciones dipolo-dipolo son como imanes para moléculas que tienen una parte positiva y una parte negativa, como el agua. Las partes positivas de una molécula de agua se sienten atraídas por las partes negativas de otras moléculas de agua, y esto mantiene las moléculas juntas.\n",
        "\n",
        "**Interacción dipolo-dipolo inducido:** Metano\n",
        "\n",
        "Cuando dos moléculas de metano se acercan, la primera molécula puede hacer que la segunda se comporte como un pequeño imán temporal debido a su campo eléctrico. Esto hace que se atraigan entre sí, como dos imanes, creando una fuerza que las mantiene juntas.\n",
        "\n",
        "**Interacción ion-dipolo:** Agua salada\n",
        "\n",
        "En agua salada (mezcla de agua y sal de mesa, NaCl), las moléculas de agua tienen una parte positiva y una parte negativa. Estas partes atraen a los iones de cloruro (Cl-) y sodio (Na+), creando una interacción llamada ion-dipolo\n",
        "\n",
        "**Fuerzas de dispersion:** Cloroformo\n",
        "\n",
        "Las fuerzas de dispersión son como imanes momentáneos entre moléculas que no son polares, como pedacitos de papel que se pegan brevemente. Esto sucede porque los electrones en estas moléculas son atraídos por los núcleos de otras moléculas cuando se acercan. Estas interacciones temporales ayudan a mantener las moléculas unidas, incluso si no son naturalmente \"imanes\" como algunas otras moléculas. Por ejemplo, en el caso del cloroformo, que es una molécula sin polaridad intrínseca, estas fuerzas son las que las mantienen juntas, como si fueran pequeños imanes temporales.\n",
        "\n",
        "**Fuerzas de Van Der Waals:** Benceno\n",
        "\n",
        "Las fuerzas de Van der Waals son como los abrazos débiles entre moléculas, y son lo que mantiene pegadas a las moléculas de benceno. A pesar de que son abrazos suaves, son lo bastante fuertes como para mantener al benceno líquido y mezclándose con otros químicos orgánicos."
      ],
      "metadata": {
        "id": "5P7e1kSncujH"
      }
    },
    {
      "cell_type": "markdown",
      "source": [
        "2. Explique el término \"polarizabilidad\". ¿Qué clase de moléculas tienden a ser muy polarizables? ¿Qué relación existe entre la polarizabilidad y las fuerzas intermoleculares?"
      ],
      "metadata": {
        "id": "nn4Q_GXDcrXU"
      }
    },
    {
      "cell_type": "markdown",
      "source": [
        "La polarizabilidad es la facilidad de una molécula para cambiar la forma de su nube de electrones cuando está cerca de un campo eléctrico. Las moléculas más polarizables son aquellas con nubes de electrones más extendidas, ya que es más fácil \"deformarlas\" con un campo eléctrico."
      ],
      "metadata": {
        "id": "JBY0_SWTb9Cl"
      }
    },
    {
      "cell_type": "markdown",
      "source": [
        "3. Explique la diferencia entre un momento dipolar temporal y un momento dipolar permanente"
      ],
      "metadata": {
        "id": "G7wTjkZ4cCRX"
      }
    },
    {
      "cell_type": "markdown",
      "source": [
        "La gran diferencia entre un momento dipolar permanente y uno temporal es que el permanente siempre está ahí porque la molécula es desigual en su carga, como un imán con un polo positivo y uno negativo. En cambio, el momento dipolar temporal aparece y desaparece en momentos distintos porque las cargas eléctricas en la molécula se mueven y cambian constantemente, como un destello de electricidad que aparece y se va."
      ],
      "metadata": {
        "id": "xfcBtDFwcCr9"
      }
    },
    {
      "cell_type": "markdown",
      "source": [
        "4. Mencione alguna evidencia de que todos los átomos y moléculas ejercen entre sus fuerzas de atracción."
      ],
      "metadata": {
        "id": "GmgTXgabby-u"
      }
    },
    {
      "cell_type": "markdown",
      "source": [
        "Cuando una sustancia se incorpora en un líquido para crear una solución, es gracias a las fuerzas atractivas entre las partículas de la sustancia y el líquido, que permiten que las partículas se distribuyan de manera uniforme en el líquido. Este fenómeno de mezcla refleja la influencia de las fuerzas intermoleculares en acción."
      ],
      "metadata": {
        "id": "hXjaPU_Mb95u"
      }
    },
    {
      "cell_type": "markdown",
      "source": [
        "5. ¿Cuales elementos pueden participar en los enlaces de hidrogeno? ¿Porque\n",
        "el hidrogeno es unico en este tipo de interaccion?"
      ],
      "metadata": {
        "id": "eUgnlaPMb8zH"
      }
    },
    {
      "cell_type": "markdown",
      "source": [
        "Los elementos que pueden participar en los enlaces de hidrogeno son otro hidrogeno, el oxígeno, el flúor y el nitrógeno; es único en este tipo de unión porque es especial; tiene solo un electrón en su parte más externa. Esto hace que el hidrógeno tenga un poquito de carga positiva que otros átomos pueden agarrar debido a su atracción hacia electrones."
      ],
      "metadata": {
        "id": "0ZLiATsSOOqz"
      }
    },
    {
      "cell_type": "markdown",
      "source": [
        "## **2. Propiedades de los líquidos:**\n",
        "\n"
      ],
      "metadata": {
        "id": "fVcav84oUkB-"
      }
    },
    {
      "cell_type": "markdown",
      "source": [
        "1. ¿Porque los líquidos, a diferencia de los gases, son prácticamente incompresibles?"
      ],
      "metadata": {
        "id": "Psz9jG5QUthy"
      }
    },
    {
      "cell_type": "markdown",
      "source": [
        "Los líquidos son difíciles de comprimir porque las partículas en un líquido están cerca unas de otras y se mantienen unidas con fuerzas mayores, lo que significa que no se pueden comprimir fácilmente. Por otro lado, en los gases, las partículas están más separadas y se mueven rápidamente, por lo que son fáciles de comprimir porque no están tan \"atrapadas\" entre sí."
      ],
      "metadata": {
        "id": "94GQS8Df-0CR"
      }
    },
    {
      "cell_type": "markdown",
      "source": [
        "2. ¿Qué es la tensión superficial? ¿Qué relación existe entre esta propiedad y las fuerzas intermoleculares? ¿Como cambia la tensión superficial con la temperatura?"
      ],
      "metadata": {
        "id": "5iuXFFHj-0mS"
      }
    },
    {
      "cell_type": "markdown",
      "source": [
        "La tensión superficial, una propiedad física, se relaciona con cómo la superficie de un líquido tiende a actuar como una especie de película elástica. Esto se debe principalmente a las fuerzas atractivas entre las moléculas del líquido, como las fuerzas de Van der Waals y las fuerzas dipolo-dipolo. A medida que aumenta la temperatura, esta tensión disminuye. La razón detrás de esto radica en que, a temperaturas más elevadas, las moléculas en la superficie del líquido poseen una mayor energía cinética, lo que les permite superar con mayor facilidad las fuerzas que las mantienen unidas hacia el interior del líquido."
      ],
      "metadata": {
        "id": "T_dLoOR5_At_"
      }
    },
    {
      "cell_type": "markdown",
      "source": [
        "3. ¿Qué es la viscosidad? ¿Cuál es la relación entre las fuerzas intermoleculares y la viscosidad?"
      ],
      "metadata": {
        "id": "x1BxboN2_Dq3"
      }
    },
    {
      "cell_type": "markdown",
      "source": [
        "La viscosidad esla medida que describe la densidad o adherencia de un fluido, y esta propiedad está estrechamente relacionada con las fuerzas de atracción y repulsión entre las moléculas de dicho fluido. En el caso de líquidos con fuerzas intermoleculares significativas, como aquellos que presentan enlaces de hidrógeno, las moléculas muestran una mayor cohesión entre sí, lo que resulta en una resistencia interna más pronunciada y, en consecuencia, una viscosidad más elevada."
      ],
      "metadata": {
        "id": "BUnJNCrL_Wqv"
      }
    },
    {
      "cell_type": "markdown",
      "source": [
        "4. ¿Por qué la viscosidad de un líquido disminuye con el aumento de temperatura?"
      ],
      "metadata": {
        "id": "-NLk5_NP_W5h"
      }
    },
    {
      "cell_type": "markdown",
      "source": [
        "\n",
        "El incremento de la temperatura suministra a las partículas del líquido la energía requerida para vencer las fuerzas de atracción entre ellas, lo que facilita su movimiento y resulta en una disminución de la viscosidad del líquido. Esto explica por qué los líquidos fluyen con mayor facilidad a temperaturas más elevadas."
      ],
      "metadata": {
        "id": "EMnNk9fc_fan"
      }
    },
    {
      "cell_type": "markdown",
      "source": [
        "## **3. Soluciones:**"
      ],
      "metadata": {
        "id": "xC1pVQHbUlD4"
      }
    },
    {
      "cell_type": "markdown",
      "source": [
        "1. Describa brevemente el proceso de disolución a nivel molecular. Utilice como ejemplo la disolución de un sólido en un liquido"
      ],
      "metadata": {
        "id": "Weavrwsf_gG3"
      }
    },
    {
      "cell_type": "markdown",
      "source": [
        "La disolución a nivel molecular implica desvincular las partículas del soluto, permitir que interactúen con el solvente, crear una envoltura de moléculas del solvente alrededor de las partículas del soluto y, finalmente, lograr una mezcla uniforme en el solvente. Tomando la sal (NaCl) como ejemplo, las fuerzas de atracción entre los iones de sal y las moléculas de agua son lo bastante poderosas como para superar las fuerzas que mantienen juntos a los iones en la estructura cristalina de la sal, lo que posibilita que la sal se disuelva en el agua y forme una solución homogénea."
      ],
      "metadata": {
        "id": "Anm9hRrb_wpW"
      }
    },
    {
      "cell_type": "markdown",
      "source": [
        "2. Según se sabe, algunos procesos de disolución son endotérmicos y otros exotérmicos. Proponga una interpretación molecular de esta diferencia."
      ],
      "metadata": {
        "id": "F2HWv-hL_w--"
      }
    },
    {
      "cell_type": "markdown",
      "source": [
        "Molecularmente hablando, en las disoluciones endotérmicas, se produce un incremento en la entropía del sistema, ya que las partículas del soluto y del solvente se dispersan de manera más uniforme en la solución. Este aumento en la entropía demanda una aportación de energía, lo que convierte al proceso en endotérmico. Por otro lado, en las disoluciones exotérmicas, se observa una reducción en la entropía del sistema, ya que las partículas del soluto y del solvente se organizan en una estructura más ordenada. Esta disminución en la entropía genera una liberación de energía, haciendo que el proceso sea exotérmico."
      ],
      "metadata": {
        "id": "rAHTyH4USlED"
      }
    },
    {
      "cell_type": "markdown",
      "source": [
        "3. Explique por que el proceso de disolucion invariablemente conduce a un aumento del desorden"
      ],
      "metadata": {
        "id": "aLcnK2h3AsWf"
      }
    },
    {
      "cell_type": "markdown",
      "source": [
        "La disolución conlleva, de manera constante, un incremento en el caos ya que las partículas del soluto se desprenden de su estructura organizada original y se dispersan en el disolvente. Esto se debe a que la entropía, que mide la desorganización y aleatoriedad de un sistema, inevitablemente aumenta durante el proceso de disolución."
      ],
      "metadata": {
        "id": "B9WuNWyrAsJ3"
      }
    },
    {
      "cell_type": "markdown",
      "source": [
        "4. Describa los factores que afectan la solubilidad de un sólido en un líquido. ¿Qué significa decir que dos líquidos son miscibles?"
      ],
      "metadata": {
        "id": "BM84O0spAOev"
      }
    },
    {
      "cell_type": "markdown",
      "source": [
        "La capacidad de un sólido para disolverse en un líquido está influenciada por diversos factores, tales como las propiedades químicas de las sustancias involucradas, la temperatura, la presión, el tamaño de las partículas y la agitación.\n",
        "La miscibilidad de dos líquidos, se refiere a su habilidad para mezclarse de manera completa y crear una solución uniforme. Esta miscibilidad depende en gran medida de la similitud entre las propiedades de los líquidos, particularmente en términos de su polaridad y sus fuerzas intermoleculares. En otras palabras, los líquidos con propiedades químicas similares tienden a ser más miscibles, mientras que aquellos con diferencias significativas en estas propiedades tienden a no mezclarse completamente."
      ],
      "metadata": {
        "id": "j5tuCiyEAbPn"
      }
    },
    {
      "cell_type": "markdown",
      "source": [
        "## **4. Unidades de concentración:**"
      ],
      "metadata": {
        "id": "eU0Fv6ckUl5P"
      }
    },
    {
      "cell_type": "markdown",
      "source": [
        "Describa brevemente los pasos que se requieren para la conversion entre molaridad, molalidad, y porcentaje de masa"
      ],
      "metadata": {
        "id": "m7eanQDnaZal"
      }
    },
    {
      "cell_type": "markdown",
      "source": [
        "Para ir de la molaridad a la molalidad se tiene que conocer la densidad del líquido y se halla dividiendo la molaridad entre la densidad de la disolución, de manera inversa para hallar la molaridad a partir de la molalidad. A través de reemplazos y ecuaciones se llega a que la molalidad se puede hallar por el porcentaje de masa, multiplicando por 10 el porcentaje de masa y dividiéndolo entre la masa molar de la disolución"
      ],
      "metadata": {
        "id": "iMZiq83TDbOu"
      }
    },
    {
      "cell_type": "markdown",
      "source": [
        "Calcule el porcentaje de masa de soluto en cada una de las siguientes disoluciones acuosas:\n",
        "\n",
        "*   5.50 g de NaBr en 78.2 g de disolucion\n",
        "*   31 g de KCl en 152 g de agua\n",
        "*   4.5 g de tolueno en 29 g de benceno\n",
        "\n",
        "\n",
        "\n",
        "\n"
      ],
      "metadata": {
        "id": "WeMwzCXwV8xo"
      }
    },
    {
      "cell_type": "code",
      "source": [
        "def cal_masa_soluto(x,y):\n",
        "  porcentaje1 = round(x / (x + y) * 100,2)\n",
        "  return porcentaje1\n",
        "def cal_masa_soluto_dis(x,y):\n",
        "  procentaje2 = round(x / y * 100,2)\n",
        "  return procentaje2\n",
        "\n",
        "print(\"El porcentaje de la primera disolucion es:\", cal_masa_soluto_dis(5.5,78.2),\" %\")\n",
        "print(\"El porcentaje de la segunda disolucion es:\", cal_masa_soluto(31,152),\" %\")\n",
        "print(\"El porcentaje de la tercera disolucion es:\", cal_masa_soluto(4.5,29),\" %\")\n"
      ],
      "metadata": {
        "colab": {
          "base_uri": "https://localhost:8080/"
        },
        "id": "bPE3TEYvWH8N",
        "outputId": "ada14c28-6c43-44ae-8356-2def05a6d691"
      },
      "execution_count": null,
      "outputs": [
        {
          "output_type": "stream",
          "name": "stdout",
          "text": [
            "El porcentaje de la primera disolucion es: 7.03  %\n",
            "El porcentaje de la segunda disolucion es: 16.94  %\n",
            "El porcentaje de la tercera disolucion es: 13.43  %\n"
          ]
        }
      ]
    },
    {
      "cell_type": "markdown",
      "source": [
        "Calcule la cantidad de agua (en gramos) que se debe agregar a:\n",
        "\n",
        "*   5 g de urea (NH2)2CO para preparar una disolucion al 16.2% en masa\n",
        "*   26.2 g de MgCl2 para preparar una disolucion al 1.5% en masa\n",
        "\n"
      ],
      "metadata": {
        "id": "hmpPAXtaXC7-"
      }
    },
    {
      "cell_type": "code",
      "source": [
        "def cal_masa_agua(x,y):\n",
        "  masa = round((x * 100 / y) - x,2)\n",
        "  return masa\n",
        "print(\"La masa del agua a agregar en el primer caso es de:\", cal_masa_agua(5,16.2),\"g\")\n",
        "print(\"La masa del agua a agregar en el segundo caso es de:\", cal_masa_agua(26.2,1.5),\"g\")"
      ],
      "metadata": {
        "colab": {
          "base_uri": "https://localhost:8080/"
        },
        "id": "iidLub3IXDbX",
        "outputId": "a48c3d8b-2fcd-4df7-bb21-5e4e9a663224"
      },
      "execution_count": null,
      "outputs": [
        {
          "output_type": "stream",
          "name": "stdout",
          "text": [
            "La masa del agua a agregar en el primer caso es de: 25.86 g\n",
            "La masa del agua a agregar en el segundo caso es de: 1720.47 g\n"
          ]
        }
      ]
    },
    {
      "cell_type": "markdown",
      "source": [
        "Calcule la molalidad de cada una de las siguientes disoluciones:\n",
        "\n",
        "*   14.3 g de sacarosa (C12H22O11) en 676 g de agua\n",
        "*   7.2 moles de etilenglicol (C2H6O2) en 3546 g de agua\n",
        "\n"
      ],
      "metadata": {
        "id": "9JCcfiJcWowg"
      }
    },
    {
      "cell_type": "code",
      "source": [
        "C = 12\n",
        "H = 1\n",
        "O = 16\n",
        "\n",
        "def cal_molal_g(x,y):\n",
        "  molalidad1 = round((x/(12*C+22*H+11*O))/(y/1000),2)\n",
        "  return molalidad1\n",
        "def cal_molal_mol(x,y):\n",
        "  molalidad2 = round(x/(y/1000),2)\n",
        "  return molalidad2\n",
        "\n",
        "print(\"La molalidad del primer caso es de:\", cal_molal_g(14.3,676))\n",
        "print(\"La molalidad del segundo caso es de:\", cal_molal_mol(7.2,3546))"
      ],
      "metadata": {
        "colab": {
          "base_uri": "https://localhost:8080/"
        },
        "id": "F3g6OMGbXnq7",
        "outputId": "be2403f8-484d-457b-ddfc-9000bfdf0921"
      },
      "execution_count": null,
      "outputs": [
        {
          "output_type": "stream",
          "name": "stdout",
          "text": [
            "La molalidad del primer caso es de: 0.06\n",
            "La molalidad del segundo caso es de: 2.03\n"
          ]
        }
      ]
    },
    {
      "cell_type": "markdown",
      "source": [
        "Calcule la molalidad de cada una de las siguientes disoluciones acuosas:\n",
        "\n",
        "*   Disolucion de NaCl 2.50 M (Densidad de la disolucion = 1.08 g/mL)\n",
        "*   Disolucion de KBr al 48.2% en masa\n",
        "\n"
      ],
      "metadata": {
        "id": "tHXcRzHCW-v_"
      }
    },
    {
      "cell_type": "code",
      "source": [
        "K = 39\n",
        "Br = 80\n",
        "\n",
        "def cal_molal_1(x,y):\n",
        "  molalidad1 = round(x/y,2)\n",
        "  return molalidad1\n",
        "\n",
        "def cal_molal_2(x):\n",
        "  molalidad2 = round(1000*x/(100*(K+Br)),2)\n",
        "  return molalidad2\n",
        "\n",
        "print(\"La molalidad en el primer caso es de:\", cal_molal_1(2.5,1.08))\n",
        "print(\"La molalidad en el segundo caso es de:\", cal_molal_2(48.2))\n"
      ],
      "metadata": {
        "colab": {
          "base_uri": "https://localhost:8080/"
        },
        "id": "VkN2nsv3Y7nH",
        "outputId": "99fa664f-f1de-449d-b829-536e4de39c96"
      },
      "execution_count": null,
      "outputs": [
        {
          "output_type": "stream",
          "name": "stdout",
          "text": [
            "La molalidad en el primer caso es de: 2.31\n",
            "La molalidad en el segundo caso es de: 4.05\n"
          ]
        }
      ]
    },
    {
      "cell_type": "markdown",
      "source": [
        "Calcule la molalidad de cada una de las siguientes disoluciones acuosas:\n",
        "\n",
        "*   Disolucion de azucar (C12H22O11) 1.22 M (Densidad de la disolucion = 1.12 g/mL)\n",
        "*   Disolucion de NaOH 0.87 M (Densidad de la disolucion = 1.04 g/mL)\n",
        "*   Disolucion de NaHCO3 5.24 M (Densidad de la disolucion = 1.19 g/mL)\n",
        "\n",
        "\n"
      ],
      "metadata": {
        "id": "AVCJuV0bY8Cg"
      }
    },
    {
      "cell_type": "code",
      "source": [
        "def cal_molal_1(x,y):\n",
        "  molalidad1 = round(x/y,2)\n",
        "  return molalidad1\n",
        "\n",
        "print(\"La molalidad en el primer caso es de:\", cal_molal_1(1.22,1.12))\n",
        "print(\"La molalidad en el segundo caso es de:\", cal_molal_1(0.87,1.04))\n",
        "print(\"La molalidad en el tercer caso es de:\", cal_molal_1(5.24,1.19))"
      ],
      "metadata": {
        "id": "_KCy6MEcaXWh",
        "colab": {
          "base_uri": "https://localhost:8080/"
        },
        "outputId": "0e89c2e1-dac7-4d62-d047-45d1e31f017c"
      },
      "execution_count": null,
      "outputs": [
        {
          "output_type": "stream",
          "name": "stdout",
          "text": [
            "La molalidad en el primer caso es de: 1.09\n",
            "La molalidad en el segundo caso es de: 0.84\n",
            "La molalidad en el tercer caso es de: 4.4\n"
          ]
        }
      ]
    },
    {
      "cell_type": "markdown",
      "source": [
        "## **5. Efecto de la temperatura en la solubilidad:**"
      ],
      "metadata": {
        "id": "M_oAld2wUneH"
      }
    },
    {
      "cell_type": "markdown",
      "source": [
        "Una muestra de 3.2 g de una sal se disuelve en 9.1 g de agua para formar una disolucion saturada a 25°C ¿Cual es la solubilidad (en g de sal/100 g de H2O) de la sal?"
      ],
      "metadata": {
        "id": "e1j6dfPjYJrV"
      }
    },
    {
      "cell_type": "code",
      "execution_count": null,
      "metadata": {
        "id": "LXVyfpODNnSj",
        "colab": {
          "base_uri": "https://localhost:8080/"
        },
        "outputId": "8efa3b52-9f5a-4785-eab7-2a2287827e04"
      },
      "outputs": [
        {
          "output_type": "stream",
          "name": "stdout",
          "text": [
            "La solubilidad de la sal es de 35.16 g de sal/100 g de H2O\n"
          ]
        }
      ],
      "source": [
        "def cal_solubilidad(x,y):\n",
        "  molalidad1 = round((x/y)*100,2)\n",
        "  return molalidad1\n",
        "print(\"La solubilidad de la sal es de\", cal_solubilidad(3.2,9.1),\"g de sal/100 g de H2O\")"
      ]
    }
  ]
}