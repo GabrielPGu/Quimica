{
  "nbformat": 4,
  "nbformat_minor": 0,
  "metadata": {
    "colab": {
      "provenance": [],
      "include_colab_link": true
    },
    "kernelspec": {
      "name": "python3",
      "display_name": "Python 3"
    },
    "language_info": {
      "name": "python"
    },
    "widgets": {
      "application/vnd.jupyter.widget-state+json": {
        "d4691835f4474884829213796343340f": {
          "model_module": "faerun-notebook",
          "model_name": "SmilesDrawerModel",
          "model_module_version": "^0.1.5",
          "state": {
            "_dom_classes": [],
            "_model_module": "faerun-notebook",
            "_model_module_version": "^0.1.5",
            "_model_name": "SmilesDrawerModel",
            "_view_count": null,
            "_view_module": "faerun-notebook",
            "_view_module_version": "^0.1.5",
            "_view_name": "SmilesDrawerView",
            "background": "#1e1e1e",
            "border": true,
            "layout": "IPY_MODEL_35b7ce94b6e84d4c985918e50984dcd7",
            "options": {
              "scale": 1.25
            },
            "output": "svg",
            "theme": "dark",
            "value": [
              [
                "Rxn",
                "C(C1C(C(C(C(O1)O)O)O)O)O.O=O>>C(=O)=O.O"
              ]
            ]
          }
        },
        "35b7ce94b6e84d4c985918e50984dcd7": {
          "model_module": "@jupyter-widgets/base",
          "model_name": "LayoutModel",
          "model_module_version": "1.2.0",
          "state": {
            "_model_module": "@jupyter-widgets/base",
            "_model_module_version": "1.2.0",
            "_model_name": "LayoutModel",
            "_view_count": null,
            "_view_module": "@jupyter-widgets/base",
            "_view_module_version": "1.2.0",
            "_view_name": "LayoutView",
            "align_content": null,
            "align_items": null,
            "align_self": null,
            "border": null,
            "bottom": null,
            "display": null,
            "flex": null,
            "flex_flow": null,
            "grid_area": null,
            "grid_auto_columns": null,
            "grid_auto_flow": null,
            "grid_auto_rows": null,
            "grid_column": null,
            "grid_gap": null,
            "grid_row": null,
            "grid_template_areas": null,
            "grid_template_columns": null,
            "grid_template_rows": null,
            "height": null,
            "justify_content": null,
            "justify_items": null,
            "left": null,
            "margin": null,
            "max_height": null,
            "max_width": null,
            "min_height": null,
            "min_width": null,
            "object_fit": null,
            "object_position": null,
            "order": null,
            "overflow": null,
            "overflow_x": null,
            "overflow_y": null,
            "padding": null,
            "right": null,
            "top": null,
            "visibility": null,
            "width": null
          }
        }
      }
    }
  },
  "cells": [
    {
      "cell_type": "markdown",
      "metadata": {
        "id": "view-in-github",
        "colab_type": "text"
      },
      "source": [
        "<a href=\"https://colab.research.google.com/github/GabrielPGu/Quimica/blob/main/PC_1_Quimica_UNMSM_Poma_Gutierrez.ipynb\" target=\"_parent\"><img src=\"https://colab.research.google.com/assets/colab-badge.svg\" alt=\"Open In Colab\"/></a>"
      ]
    },
    {
      "cell_type": "markdown",
      "source": [
        "$$\\Large \\textit{UNMSM | Química}$$\n",
        "$$\\large \\textbf{PC Nº1 | Materia y clasificación}$$\n",
        "\n",
        "_Profesor: Jesus Alvarado Huayhuaz_"
      ],
      "metadata": {
        "id": "sDJAjbaQOj4x"
      }
    },
    {
      "cell_type": "markdown",
      "source": [
        "*Alumno: Poma Gutierrez Gabriel*"
      ],
      "metadata": {
        "id": "K_BL3OBQHPmi"
      }
    },
    {
      "cell_type": "markdown",
      "source": [
        "Todas las indicaciones para la presentación de la práctica son explicadas en clase y brindadas en el material de enunciado de preguntas en formato PDF."
      ],
      "metadata": {
        "id": "_DsTzWLoP7Fy"
      }
    },
    {
      "cell_type": "markdown",
      "source": [
        "## Pregunta 1: Sobre el ABC de python (4 puntos)"
      ],
      "metadata": {
        "id": "obD7c2igOD6t"
      }
    },
    {
      "cell_type": "markdown",
      "source": [
        "Durante la semana de revisión del material \"ABC de python\", reflexiona sobre qué conceptos aprendiste con claridad y cuáles consideras los más desafiantes. A continuación resuelve los siguiente ejercicios, puedes ayudarte del material en http://bit.ly/3YKICSZ."
      ],
      "metadata": {
        "id": "emt93S7dL7QH"
      }
    },
    {
      "cell_type": "code",
      "source": [
        "# Imprime la versión de python que usas y las palabras reservadas de python para esa versión."
      ],
      "metadata": {
        "id": "6mJvqMN0LTU8"
      },
      "execution_count": null,
      "outputs": []
    },
    {
      "cell_type": "code",
      "source": [
        "import sys\n",
        "import keyword\n",
        "\n",
        "print(\"Python en version-->\", sys.version)\n",
        "print(\"La lista de palabras reservadas de python son -->\",keyword.kwlist)"
      ],
      "metadata": {
        "id": "Z9Tlgi7mAOVb"
      },
      "execution_count": null,
      "outputs": []
    },
    {
      "cell_type": "code",
      "source": [
        "# Crea una matriz de 3x3 e imprime la suma de los elementos en su diagonal (traza)."
      ],
      "metadata": {
        "id": "MxDzGypdLTXh"
      },
      "execution_count": null,
      "outputs": []
    },
    {
      "cell_type": "code",
      "source": [
        "#Creacion de Matriz\n",
        "matriz = [\n",
        "    [1, 2, 3],\n",
        "    [4, 5, 6],\n",
        "    [7, 8, 9]\n",
        "]\n",
        "#Calculando la suma de la diagonal\n",
        "i = 0\n",
        "suma_diagonal = 0\n",
        "while i < 3:\n",
        "    suma_diagonal += matriz[i][i]\n",
        "    i += 1\n",
        "\n",
        "print(\"La matriz es:\")\n",
        "for fila in matriz:\n",
        "    print(fila)\n",
        "print(\"Suma de la diagonal de la matriz es-->\", suma_diagonal)"
      ],
      "metadata": {
        "id": "AVcarhG8AXXp"
      },
      "execution_count": null,
      "outputs": []
    },
    {
      "cell_type": "code",
      "source": [
        "# Guarda como variable la masa atómica de los elementos C, H y O, e imprime la masa molecular del etanol."
      ],
      "metadata": {
        "id": "MyhNX7JmLTSe"
      },
      "execution_count": null,
      "outputs": []
    },
    {
      "cell_type": "code",
      "source": [
        "#Masas atomicas g/mol\n",
        "C = 12\n",
        "O = 16\n",
        "H = 1\n",
        "\n",
        "subindice = str.maketrans(\"0123456789\", \"₀₁₂₃₄₅₆₇₈₉\")\n",
        "def subs(num1):\n",
        "    num_sub = str(num1).translate(subindice)\n",
        "    return num_sub\n",
        "\n",
        "#Etanol: C2 H6 O\n",
        "def masa_molecular_etanol():\n",
        "    masa_etanol = C*2 + H*6 + O\n",
        "    return masa_etanol\n",
        "\n",
        "print(\"La masa molecular del etanol (C\",subs(2),\"H\",subs(6),\"O) es -->\", masa_molecular_etanol(),\"g/mol\")"
      ],
      "metadata": {
        "id": "nMuDU_vMAc4x"
      },
      "execution_count": null,
      "outputs": []
    },
    {
      "cell_type": "code",
      "source": [
        "# Busca la temperatura de fusión en Celsius de 5 metales y guárdalos en una lista. Imprime las temperaturas en Kelvin"
      ],
      "metadata": {
        "id": "NCOnJ0FwgLLc"
      },
      "execution_count": null,
      "outputs": []
    },
    {
      "cell_type": "code",
      "source": [
        "fus_mercurio = -39\n",
        "fus_plomo = 327\n",
        "fus_hierro = 1538\n",
        "fus_cobre = 1085\n",
        "fus_plata = 962\n",
        "metales = [\"Plata\", \"Cobre\", \"Hierro\", \"Plomo\", \"Mercurio\"]\n",
        "metales_temps = [fus_plata,fus_cobre,fus_hierro,fus_plomo,fus_mercurio]\n",
        "\n",
        "def calcular_cel_kelvins():\n",
        "    i = 0\n",
        "    while i < len(metales_temps):\n",
        "        kelvin_temp = metales_temps[i] + 273\n",
        "        print(\"La temperatura de fusión de \" + metales[i] + \" en grados kelvin es de ---> \" + str(kelvin_temp) + \" K\")\n",
        "        i += 1\n",
        "\n",
        "calcular_cel_kelvins()"
      ],
      "metadata": {
        "id": "PLL__68QAigp"
      },
      "execution_count": null,
      "outputs": []
    },
    {
      "cell_type": "markdown",
      "source": [
        "## Pregunta 2: Operaciones (4 puntos)"
      ],
      "metadata": {
        "id": "epzOadagLfPi"
      }
    },
    {
      "cell_type": "markdown",
      "source": [
        "Escribe un programa que lea repetidamente elementos químicos en español hasta que el usuario introduzca “fin”. Una vez se haya introducido “fin”, muestra por pantalla (o sea imprime) el total de elementos ingresados. Si el usuario introduce cualquier otra cosa que no sea un elemento químico, detecta su fallo usando try y except, muestra un mensaje de error y pasa al siguiente elemento."
      ],
      "metadata": {
        "id": "MbAEOGPsjOWZ"
      }
    },
    {
      "cell_type": "code",
      "source": [
        "# Lista de elementos químicos en español\n",
        "el_quimicos = [\n",
        "    \"hidrógeno\", \"helio\", \"litio\", \"berilio\", \"boro\", \"carbono\", \"nitrógeno\",\n",
        "    \"oxígeno\", \"flúor\", \"neón\", \"sodio\", \"magnesio\", \"aluminio\", \"silicio\",\n",
        "    \"fósforo\", \"azufre\", \"cloro\", \"argón\", \"potasio\", \"calcio\", \"escandio\",\n",
        "    \"titanio\", \"vanadio\", \"cromo\", \"manganeso\", \"hierro\", \"cobalto\", \"níquel\",\n",
        "    \"cobre\", \"zinc\", \"galio\", \"germanio\", \"arsénico\", \"selenio\", \"bromo\", \"criptón\",\n",
        "    \"rubidio\", \"estroncio\", \"itrio\", \"circónio\", \"niobio\", \"molibdeno\", \"tecnecio\",\n",
        "    \"rutenio\", \"rodio\", \"paladio\", \"plata\", \"cadmio\", \"indio\", \"estaño\", \"antimonio\",\n",
        "    \"telurio\", \"yodo\", \"xenón\", \"cesio\", \"bario\", \"lantano\", \"cerio\", \"praseodimio\",\n",
        "    \"neodimio\", \"prometio\", \"samario\", \"europio\", \"gadolinio\", \"terbio\", \"disprosio\",\n",
        "    \"holmio\", \"erbio\", \"tulio\", \"iterbio\", \"lutecio\", \"hafnio\", \"tantalio\", \"wolframio\",\n",
        "    \"renio\", \"osmio\", \"iridio\", \"platino\", \"oro\", \"mercurio\", \"talio\", \"plomo\", \"bismuto\",\n",
        "    \"polonio\", \"astato\", \"radón\", \"francio\", \"radio\", \"actinio\", \"torio\", \"protactinio\",\n",
        "    \"uranio\", \"neptunio\", \"plutonio\", \"americio\", \"curio\", \"berkelio\", \"californio\",\n",
        "    \"einstenio\", \"fermio\", \"mendelevio\", \"nobelio\", \"lawrencio\", \"rutherfordio\",\n",
        "    \"dubnio\", \"seaborgio\", \"bohrio\", \"hassio\", \"meitnerio\", \"darmstadtio\", \"roentgenio\",\n",
        "    \"copernicio\", \"nihonio\", \"flerovio\", \"moscovio\", \"livermorio\", \"tennessino\", \"oganeson\"\n",
        "]\n",
        "\n",
        "total_el = 0\n",
        "while True:\n",
        "    element = input(\"Ingrese un elemento químico(español), (fin) para terminar): \").lower()\n",
        "\n",
        "    if element == \"fin\":\n",
        "        break\n",
        "\n",
        "    try:\n",
        "        if element in el_quimicos:\n",
        "            total_el += 1\n",
        "        else:\n",
        "            raise ValueError\n",
        "    except ValueError:\n",
        "        print(\"Error--> Elemento químico no válido.\")\n",
        "        continue\n",
        "\n",
        "print(\"Cantidad total de elementos--> \", total_el)\n"
      ],
      "metadata": {
        "id": "gJGX0p5QLetj"
      },
      "execution_count": null,
      "outputs": []
    },
    {
      "cell_type": "markdown",
      "source": [
        "# Pregunta 3: Conservación de la masa (4 puntos)"
      ],
      "metadata": {
        "id": "8gxSHpD3LZsh"
      }
    },
    {
      "cell_type": "markdown",
      "source": [
        "### Código necesario para generar la imagen"
      ],
      "metadata": {
        "id": "mMV9c3hDl7KL"
      }
    },
    {
      "cell_type": "code",
      "source": [
        "!pip install faerun-notebook==0.1.5b0\n",
        "\n",
        "import ipywidgets as widgets\n",
        "from faerun_notebook import SmilesDrawer\n",
        "from google.colab import output\n",
        "output.enable_custom_widget_manager()"
      ],
      "metadata": {
        "id": "JgF8Ohtbky65"
      },
      "execution_count": null,
      "outputs": []
    },
    {
      "cell_type": "markdown",
      "source": [
        "### Reacción química"
      ],
      "metadata": {
        "id": "5sLC10D_oSrV"
      }
    },
    {
      "cell_type": "markdown",
      "source": [
        "Demuestra cómo se cumple la conservación de la masa en la siguiente reacción química. Sugerencia: hacer un balance estequiométrico y luego emplear la masa molecular de reactivos y productos."
      ],
      "metadata": {
        "id": "OVRhAzaVmD86"
      }
    },
    {
      "cell_type": "code",
      "source": [
        "SmilesDrawer(value=[(\"Rxn\", \"C(C1C(C(C(C(O1)O)O)O)O)O.O=O>>C(=O)=O.O\")], theme='dark', background=\"#1e1e1e\", options={'scale': 1.25})"
      ],
      "metadata": {
        "colab": {
          "base_uri": "https://localhost:8080/",
          "height": 289,
          "referenced_widgets": [
            "d4691835f4474884829213796343340f",
            "35b7ce94b6e84d4c985918e50984dcd7"
          ]
        },
        "id": "CC0mAXWmnYyN",
        "outputId": "fb9a2a33-11fa-47cd-bffe-ce9c285db1d8"
      },
      "execution_count": null,
      "outputs": [
        {
          "output_type": "display_data",
          "data": {
            "text/plain": [
              "SmilesDrawer(background='#1e1e1e', options={'scale': 1.25}, theme='dark', value=[('Rxn', 'C(C1C(C(C(C(O1)O)O)O…"
            ],
            "application/vnd.jupyter.widget-view+json": {
              "version_major": 2,
              "version_minor": 0,
              "model_id": "d4691835f4474884829213796343340f"
            }
          },
          "metadata": {
            "application/vnd.jupyter.widget-view+json": {
              "colab": {
                "custom_widget_manager": {
                  "url": "https://ssl.gstatic.com/colaboratory-static/widgets/colab-cdn-widget-manager/b3e629b1971e1542/manager.min.js"
                }
              }
            }
          }
        }
      ]
    },
    {
      "cell_type": "code",
      "source": [
        "C = 12\n",
        "O = 16\n",
        "H = 1\n",
        "subindice = str.maketrans(\"0123456789\", \"₀₁₂₃₄₅₆₇₈₉\")\n",
        "def subs(num1):\n",
        "    num_sub = str(num1).translate(subindice)\n",
        "    return num_sub\n",
        "\n",
        "print(\"La reaccion quimica es: C\",subs(6),\"H\",subs(12),\"O\",subs(6),\" + O\",subs(2),\" ---> CO\",subs(2),\" + H\", subs(2),\"O\")\n",
        "print(\"La reaccion quimica balanceada estequiometricamente es: C\",subs(6),\"H\",subs(12),\"O\",subs(6),\" + 6 O\",subs(2),\" ---> 6 CO\",subs(2),\" + 6 H\", subs(2),\"O\")\n",
        "reactivos_masa = C*6 + H*12 + O*6 + O*(6*2)\n",
        "productos_masa = C*6 + O*(6*2) + H*(6*2) + O*6\n",
        "print(\"La masa de los reactivos ya balanceados es -->\",reactivos_masa)\n",
        "print(\"La masa de los productos ya balanceados es -->\",productos_masa)\n",
        "\n",
        "if reactivos_masa == productos_masa:\n",
        "    print(\"Se demuestra la conservacion de la masa en la reaccion quimica porque--> \",reactivos_masa,\"=\",productos_masa)"
      ],
      "metadata": {
        "id": "4p8JLqYKA3Zs"
      },
      "execution_count": null,
      "outputs": []
    },
    {
      "cell_type": "markdown",
      "source": [
        "## Pregunta 4: Notación científica (4 puntos)"
      ],
      "metadata": {
        "id": "Rh-nAUiKhJNB"
      }
    },
    {
      "cell_type": "markdown",
      "source": [
        "Imprime las siguientes operaciones según la notación científica:\n",
        "\n",
        "(1) $1.321 \\times 10^{-4} + 8.5 \\times 10^{-2}$\n",
        "\n",
        "(2) $1.71 \\times 10^{3} - 2.01 \\times 10^{2}\\$\n",
        "\n",
        "(3) $(7.4 \\times 10^5)(7.2 \\times 10^4)$\n",
        "\n",
        "(4) $(7.4 \\times 10^5)/(7.2 \\times 10^4)$"
      ],
      "metadata": {
        "id": "NIkI45Xdqqnt"
      }
    },
    {
      "cell_type": "code",
      "source": [
        "probl_1 = 1.321*(10**-4) + 8.5*(10**-2)\n",
        "probl_2 = 1.71*(10**3) - 2.01*(10**2)\n",
        "probl_3 = (7.34*(10**3)) * (7.2*(10**4))\n",
        "probl_4 = (7.34*(10**3)) / (7.2*(10**4))\n",
        "\n",
        "def notacionCientifica(resolucion):\n",
        "    redondeo= \"{: .3e}\".format(resolucion)\n",
        "    if \"e-\" in redondeo:\n",
        "        not_cientifica = redondeo.replace(\"e-\", \"x10^-\")\n",
        "    if \"e+\" in redondeo:\n",
        "        not_cientifica = redondeo.replace(\"e+\", \"x10^+\")\n",
        "    return not_cientifica\n",
        "\n",
        "print(\"El resultado del problema 1 es ----> \", notacionCientifica(probl_1))\n",
        "print(\"El resultado del problema 2 es ----> \", notacionCientifica(probl_2))\n",
        "print(\"El resultado del problema 3 es ----> \", notacionCientifica(probl_3))\n",
        "print(\"El resultado del problema 4 es ----> \", notacionCientifica(probl_4))"
      ],
      "metadata": {
        "id": "chEl7UzVBHQ5"
      },
      "execution_count": null,
      "outputs": []
    },
    {
      "cell_type": "markdown",
      "source": [
        "## Pregunta 5: Método científico (4 puntos)"
      ],
      "metadata": {
        "id": "CuzCcXJghR14"
      }
    },
    {
      "cell_type": "markdown",
      "source": [
        "Artículo: https://bit.ly/3surZ1W\n",
        "Leer el siguiente artículo y explica cómo es aplicado el método científico. Emplea como máximo 300 palabras."
      ],
      "metadata": {
        "id": "WngRSR-Rhmx1"
      }
    },
    {
      "cell_type": "markdown",
      "source": [
        "Para poder explicar de mejor manera dividiremos en partes el metodo cientifico:\n",
        "\n",
        "Observación: El K-99 tiene propiedades interesantes como su resistividad y su capacidad para levitar sobre un imán. Estas observaciones iniciales llevan a planter preguntas sobre las propiedades del material.\n",
        "\n",
        "Planteamiento de la pregunta: A partir de las observaciones, los investigadores formulan la pregunta de si LK-99 es un superconductor a temperatura ambiente y presión atmosférica, pues inicialmente se muestra de esa manera.\n",
        "\n",
        "Formulación de una hipótesis: Se propone la hipótesis de que LK-99 es un superconductor basándose en las propiedades observadas, como la levitación y los cambios abruptos en la resistividad.\n",
        "\n",
        "Experimentación: Se llevan experimentos como la síntesis de muestras puras de LK-99, la medición de su resistividad y la observación de su comportamiento en presencia de un imán.\n",
        "\n",
        "Análisis de datos: Se analizan los datos, como las mediciones de resistividad y las observaciones de levitación, para determinar si respaldan o refutan la hipótesis de que LK-99 es un superconductor.\n",
        "\n",
        "Conclusiones: A partir de lo anterior, los investigadores llegan a la conclusión de que LK-99 no es un superconductor, sino un aislante, y que las propiedades observadas se deben a impurezas, como el sulfuro de cobre que esta presente."
      ],
      "metadata": {
        "id": "4_uL9yU2EBg4"
      }
    }
  ]
}