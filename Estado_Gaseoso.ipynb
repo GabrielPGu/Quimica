{
  "cells": [
    {
      "cell_type": "markdown",
      "metadata": {
        "id": "view-in-github",
        "colab_type": "text"
      },
      "source": [
        "<a href=\"https://colab.research.google.com/github/GabrielPGu/Quimica/blob/main/Estado_Gaseoso.ipynb\" target=\"_parent\"><img src=\"https://colab.research.google.com/assets/colab-badge.svg\" alt=\"Open In Colab\"/></a>"
      ]
    },
    {
      "cell_type": "markdown",
      "source": [
        "## **Estado Gaseoso**\n",
        "\n"
      ],
      "metadata": {
        "id": "7DVRE5Ahebww"
      }
    },
    {
      "cell_type": "markdown",
      "source": [
        "Alumno: Poma Gutierrez Gabriel"
      ],
      "metadata": {
        "id": "x3P4yK0Qeto9"
      }
    },
    {
      "cell_type": "markdown",
      "source": [
        "## **1. El estado Gaseoso: generalidades**\n"
      ],
      "metadata": {
        "id": "KFDiyJRtk2dv"
      }
    },
    {
      "cell_type": "markdown",
      "source": [
        "1.1. Calcula el volumen ocupado por 2 moles de gas a una presión de 3 atmósferas y una\n",
        "temperatura de 300 K."
      ],
      "metadata": {
        "id": "p0gccHbsljMF"
      }
    },
    {
      "cell_type": "code",
      "execution_count": 8,
      "metadata": {
        "id": "ChR8EJnnLQM1",
        "colab": {
          "base_uri": "https://localhost:8080/"
        },
        "outputId": "4c29df6f-4c7b-4e2b-ff77-620c1fc7daf2"
      },
      "outputs": [
        {
          "output_type": "stream",
          "name": "stdout",
          "text": [
            "Escribir el volumen en Kelvins: 300\n",
            "Escribir el volumen en moles: 2\n",
            "Escribir el volumen en atmosferas: 3\n",
            "El volumen ocupado es de:  16.400000000000002 L\n"
          ]
        }
      ],
      "source": [
        "T = float(input(\"Escribir la temperatura en Kelvins: \"))\n",
        "n = float(input(\"Escribir n en moles: \"))\n",
        "P = float(input(\"Escribir el volumen en atmosferas: \"))\n",
        "R = 0.082\n",
        "\n",
        "def calcular_volumen(P, n, R, T):\n",
        "    V = (n * R * T) / P\n",
        "    return V\n",
        "print(\"El volumen ocupado es de: \", calcular_volumen(P, n, R, T),\"L\")"
      ]
    },
    {
      "cell_type": "markdown",
      "source": [
        "1.2. En condiciones estándar, ¿cuántos moles de gas hay en 5 litros de oxígeno (O2)?"
      ],
      "metadata": {
        "id": "NRefCGTRoj40"
      }
    },
    {
      "cell_type": "code",
      "source": [
        "T = 273\n",
        "P = 1\n",
        "R = 0.082\n",
        "v = float(input(\"Escribir el volumen en L: \"))\n",
        "\n",
        "def calcular_mol(P, R, T, V):\n",
        "    n = (P * V) / (T * R)\n",
        "    return n\n",
        "print(\"Los moles son: \", calcular_mol(P, R, T, V),\"mol\")"
      ],
      "metadata": {
        "colab": {
          "base_uri": "https://localhost:8080/"
        },
        "id": "7IIylxmLokb7",
        "outputId": "58def38d-af59-4790-f276-95ed5bbe7209"
      },
      "execution_count": 16,
      "outputs": [
        {
          "output_type": "stream",
          "name": "stdout",
          "text": [
            "Escribir el volumen en L: 5\n",
            "Los moles son:  0.4467077637809345 mol\n"
          ]
        }
      ]
    },
    {
      "cell_type": "markdown",
      "source": [
        "## **2. Características del estado gaseoso**"
      ],
      "metadata": {
        "id": "Lv08f2pfpvim"
      }
    },
    {
      "cell_type": "markdown",
      "source": [
        "2.1. ¿Cuál es la principal característica que distingue a los gases de los líquidos y sólidos?"
      ],
      "metadata": {
        "id": "B6Ed_Onppx_M"
      }
    },
    {
      "cell_type": "markdown",
      "source": [
        "La separación de sus partículas o moléculas, en el sólido están juntas, en los líquidos están un poco separados, pero en los gases están muy separados con movimiento aleatorio y no depende de las otras partículas o moléculas"
      ],
      "metadata": {
        "id": "9eOn5pINbiAu"
      }
    },
    {
      "cell_type": "markdown",
      "source": [
        "2.5. ¿Por qué los gases no tienen una forma o un volumen definidos?"
      ],
      "metadata": {
        "id": "cYFeaCKDp09s"
      }
    },
    {
      "cell_type": "markdown",
      "source": [
        "Porque se están expandiendo constantemente así que adoptará la forma del recipiente en el que se contenga, así como ocupara todo el volumen del recipiente, se da por el movimiento de sus partículas que no tenga volumen definido y por consiguiente no tiene forma definida"
      ],
      "metadata": {
        "id": "hpnuJXi9bvq2"
      }
    },
    {
      "cell_type": "markdown",
      "source": [
        "## **3. Definición y problemas sobre presión**"
      ],
      "metadata": {
        "id": "IRhpwKtIqLCz"
      }
    },
    {
      "cell_type": "markdown",
      "source": [
        "3.1. Calcula la presión ejercida por 0.5 moles de gas en un recipiente de 10 litros a 25°C.\n"
      ],
      "metadata": {
        "id": "D4D_4VqwqM0r"
      }
    },
    {
      "cell_type": "code",
      "source": [
        "T = float(input(\"Escribir la temperatura en Celcius: \"))\n",
        "n = float(input(\"Escribir n en moles: \"))\n",
        "V = float(input(\"Escribir el volumen en L: \"))\n",
        "R = 0.082\n",
        "T = 273 + T\n",
        "\n",
        "def calcular_presion(V, R, T, n):\n",
        "    P = (n * R * T) / V\n",
        "    return P\n",
        "print(\"La presion es de: \", calcular_presion(V, R, T, n),\"atm\")"
      ],
      "metadata": {
        "colab": {
          "base_uri": "https://localhost:8080/"
        },
        "id": "xp_IFhXC9qEZ",
        "outputId": "2b83eba8-6d5f-44a7-831f-d4a5ea4479ab"
      },
      "execution_count": 14,
      "outputs": [
        {
          "output_type": "stream",
          "name": "stdout",
          "text": [
            "Escribir la temperatura en Celcius: 25\n",
            "Escribir n en moles: 0.5\n",
            "Escribir el volumen en L: 10\n",
            "La presion es de:  1.2218 atm\n"
          ]
        }
      ]
    },
    {
      "cell_type": "markdown",
      "source": [
        "3.2. Si tienes un gas a una presión de 1 atmósfera y lo comprimes a la mitad de su volumen, ¿cuál\n",
        "será la nueva presión? Supón que la temperatura y el número de moles es constante."
      ],
      "metadata": {
        "id": "AZNIuWMsqO_L"
      }
    },
    {
      "cell_type": "code",
      "source": [
        "P1 = float(input(\"Escribir la presion en atm: \"))\n",
        "V1 = 1\n",
        "V2 = 0.5\n",
        "\n",
        "def calcular_presion(P1, V1, V2):\n",
        "  P2 = (V1 * P1) / V2\n",
        "  return P2\n",
        "print(\"La nueva presion es: \",calcular_presion(P1, V1,V2),\"atm\")"
      ],
      "metadata": {
        "colab": {
          "base_uri": "https://localhost:8080/"
        },
        "id": "JH9FdYHUCCdb",
        "outputId": "71681814-5688-49f0-bfa2-c7e612a81beb"
      },
      "execution_count": 15,
      "outputs": [
        {
          "output_type": "stream",
          "name": "stdout",
          "text": [
            "Escribir la presion en atm: 1\n",
            "La nueva presion es:  2.0 atm\n"
          ]
        }
      ]
    },
    {
      "cell_type": "markdown",
      "source": [
        "## **4. Principios de la Teoría Cinético Molecular de los gases**"
      ],
      "metadata": {
        "id": "AZJDi7HwqVBN"
      }
    },
    {
      "cell_type": "markdown",
      "source": [
        "4.2. Describe el comportamiento de las partículas de un gas ideal en términos de movimiento y\n",
        "colisiones."
      ],
      "metadata": {
        "id": "EeQOPk--rOvV"
      }
    },
    {
      "cell_type": "markdown",
      "source": [],
      "metadata": {
        "id": "XK_IYebgdah9"
      }
    },
    {
      "cell_type": "markdown",
      "source": [
        "Las partículas o moléculas se desplazan de manera continua y aleatoria, interactúan mediante choques elásticos entre sí y con las superficies del contenedor, y se destacan por la ausencia de fuerzas de atracción notables entre ellas."
      ],
      "metadata": {
        "id": "_M275NmBc9MP"
      }
    },
    {
      "cell_type": "markdown",
      "source": [
        "4.4. ¿Cómo cambia la presión de un gas ideal si se aumenta la velocidad promedio de sus\n",
        "partículas manteniendo constantes otros factores?"
      ],
      "metadata": {
        "id": "VVHzaVUrqvw8"
      }
    },
    {
      "cell_type": "markdown",
      "source": [
        "Si la velocidad promedio de las partículas aumenta, la temperatura del gas también aumentará. Como resultado, la presión del gas ideal aumentará, siempre y cuando mantengamos constante el volumen y la cantidad de sustancia. Esto se debe a que la presión, el volumen y la temperatura están interrelacionados según la ecuación de los gases ideales, si lo que se mantiene constante es la presion y la cantidad de sustancia lo que aumentara sera el volumen del gas."
      ],
      "metadata": {
        "id": "UCei4vp8dPRG"
      }
    },
    {
      "cell_type": "markdown",
      "metadata": {
        "id": "00XbNrgcLgY_"
      },
      "source": [
        "## **5. Ley General de los Gases Ideales**\n",
        "\n"
      ]
    },
    {
      "cell_type": "markdown",
      "source": [
        "5.1. Utiliza la ecuación de los gases ideales para calcular la presión de 2 moles de gas en un\n",
        "recipiente de 5 litros a 25°C."
      ],
      "metadata": {
        "id": "e8n01q13vMP1"
      }
    },
    {
      "cell_type": "code",
      "source": [
        "T = float(input(\"Escribir la temperatura en Celcius: \"))\n",
        "n = float(input(\"Escribir n en moles: \"))\n",
        "V = float(input(\"Escribir el volumen en L: \"))\n",
        "R = 0.082\n",
        "T = 273 + T\n",
        "\n",
        "def calcular_presion(V, R, T, n):\n",
        "    P = (n * R * T) / V\n",
        "    return P\n",
        "print(\"La presion es de: \", calcular_presion(V, R, T, n),\"atm\")"
      ],
      "metadata": {
        "colab": {
          "base_uri": "https://localhost:8080/"
        },
        "id": "QaC8X4oaEDDt",
        "outputId": "6aeddb19-3905-4084-f189-ad14b3493062"
      },
      "execution_count": 17,
      "outputs": [
        {
          "output_type": "stream",
          "name": "stdout",
          "text": [
            "Escribir la temperatura en Celcius: 25\n",
            "Escribir n en moles: 2\n",
            "Escribir el volumen en L: 5\n",
            "La presion es de:  9.7744 atm\n"
          ]
        }
      ]
    },
    {
      "cell_type": "markdown",
      "source": [
        "5.2. Si tienes un gas que ocupa 10 litros a 3 atmósferas de presión y 273 K de temperatura,\n",
        "¿cuántos moles de gas tienes?"
      ],
      "metadata": {
        "id": "3HwiIgSqvM4U"
      }
    },
    {
      "cell_type": "code",
      "source": [
        "T = float(input(\"Escribir la temperatura en kelvins: \"))\n",
        "P = float(input(\"Escribir la presion en atm: \"))\n",
        "v = float(input(\"Escribir el volumen en L: \"))\n",
        "R = 0.082\n",
        "\n",
        "def calcular_mol(P, R, T, V):\n",
        "    n = (P * V) / (T * R)\n",
        "    return n\n",
        "print(\"Los moles son: \", calcular_mol(P, R, T, V),\"mol\")"
      ],
      "metadata": {
        "colab": {
          "base_uri": "https://localhost:8080/"
        },
        "id": "ONBR5J03EfK9",
        "outputId": "7a98d655-0d21-4cb1-eda5-7d5d64064aee"
      },
      "execution_count": 18,
      "outputs": [
        {
          "output_type": "stream",
          "name": "stdout",
          "text": [
            "Escribir la temperatura en kelvins: 273\n",
            "Escribir la presion en atm: 3\n",
            "Escribir el volumen en L: 10\n",
            "Los moles son:  0.6700616456714018 mol\n"
          ]
        }
      ]
    },
    {
      "cell_type": "markdown",
      "source": [
        "## **6. Ley de Gay-Lussac:**"
      ],
      "metadata": {
        "id": "b2tmfjirrcBj"
      }
    },
    {
      "cell_type": "markdown",
      "source": [
        "6.2. Un globo se llena con 3 moles de gas a 25 °C. Si la temperatura se incrementa a 75 °C, ¿cuál\n",
        "será el nuevo volumen del globo?"
      ],
      "metadata": {
        "id": "ifBUdVgNwjzz"
      }
    },
    {
      "cell_type": "code",
      "source": [
        "T1 = float(input(\"Escribir la primera temperatura en celcius: \"))\n",
        "n = float(input(\"Escribir n en moles: \"))\n",
        "P = 1\n",
        "T2 = float(input(\"Escribir la segunda temperatura en celcius: \"))\n",
        "R = 0.082\n",
        "T1 = 273 + T1\n",
        "T2 = 273 + T2\n",
        "\n",
        "def calcular_volumen(P, n, R, T1):\n",
        "    V = (n * R * T1) / P\n",
        "    return V\n",
        "V1 = calcular_volumen(P, n, R, T1)\n",
        "\n",
        "def calcular_volumen2(T1, T2, V1):\n",
        "  V2 = (V1 * T2) / T1\n",
        "  return V2\n",
        "\n",
        "print(\"El nuevo volumen es de: \", calcular_volumen2(T1, T2, V1),\"L\")"
      ],
      "metadata": {
        "colab": {
          "base_uri": "https://localhost:8080/"
        },
        "id": "jrkIiw0_E7FM",
        "outputId": "895fdea4-67fd-4069-8972-a1ff305e6af2"
      },
      "execution_count": 5,
      "outputs": [
        {
          "output_type": "stream",
          "name": "stdout",
          "text": [
            "Escribir la primera temperatura en celcius: 25\n",
            "Escribir n en moles: 3\n",
            "Escribir la segunda temperatura en celcius: 75\n",
            "El nuevo volumen es de:  85.60799999999999 L\n"
          ]
        }
      ]
    },
    {
      "cell_type": "markdown",
      "source": [
        "6.3. Si un recipiente de 4 litros contiene 3 moles de un gas a 400 K, ¿cuál será la presión si el\n",
        "volumen se reduce a 2 litros a temperatura constante?"
      ],
      "metadata": {
        "id": "3LgSp4SEw3P-"
      }
    },
    {
      "cell_type": "code",
      "source": [
        "T = float(input(\"Escribir la temperatura en kelvins: \"))\n",
        "n = float(input(\"Escribir n en moles: \"))\n",
        "V1 = float(input(\"Escribir el primer volumen en L: \"))\n",
        "V2 = float(input(\"Escribir el segundo volumen en L: \"))\n",
        "\n",
        "R = 0.082\n",
        "\n",
        "def calcular_presion(V1, R, T, n):\n",
        "    P = (n * R * T) / V1\n",
        "    return P\n",
        "P1 = calcular_presion(V1, R, T, n)\n",
        "def calcular_presion2(V1, V2, P1):\n",
        "  P2 = (P1 * V1) / V2\n",
        "  return P2\n",
        "print(\"La presion es de: \", calcular_presion2(V1, V2, P1),\"atm\")"
      ],
      "metadata": {
        "colab": {
          "base_uri": "https://localhost:8080/"
        },
        "id": "Jb1zYAzmGRe1",
        "outputId": "c3de303c-44ce-47b6-8786-a8901009b5a8"
      },
      "execution_count": 4,
      "outputs": [
        {
          "output_type": "stream",
          "name": "stdout",
          "text": [
            "Escribir la temperatura en kelvins: 400\n",
            "Escribir n en moles: 3\n",
            "Escribir el primer volumen en L: 4\n",
            "Escribir el segundo volumen en L: 2\n",
            "La presion es de:  49.2 atm\n"
          ]
        }
      ]
    },
    {
      "cell_type": "markdown",
      "source": [
        "## **7. Ley de Charles:**"
      ],
      "metadata": {
        "id": "AI5x_T3ir_Tj"
      }
    },
    {
      "cell_type": "markdown",
      "source": [
        "7.1. Un globo se llena con 2 moles de gas a 25 °C. Si el volumen inicial es de 5 litros, ¿cuál será el\n",
        "volumen a 50 °C, manteniendo constante la presión?"
      ],
      "metadata": {
        "id": "1ftCrLDtxXp8"
      }
    },
    {
      "cell_type": "code",
      "source": [
        "T1 = float(input(\"Escribir la primera temperatura en celcius: \"))\n",
        "T2 = float(input(\"Escribir la segunda temperatura en celcius: \"))\n",
        "V1 = float(input(\"Escribir el volumen en L: \"))\n",
        "T1 = T1 + 273\n",
        "T2 = T2 + 273\n",
        "def calcular_volumen(T1, T2, V1):\n",
        "  V2 = (V1 * T2) / T1\n",
        "  return V2\n",
        "\n",
        "print(\"El nuevo volumen es de: \", calcular_volumen(T1, T2, V1),\"L\")"
      ],
      "metadata": {
        "colab": {
          "base_uri": "https://localhost:8080/"
        },
        "id": "QVV2BngSH1CV",
        "outputId": "f9192d80-175e-4aca-8094-b991501d04f7"
      },
      "execution_count": 9,
      "outputs": [
        {
          "output_type": "stream",
          "name": "stdout",
          "text": [
            "Escribir la primera temperatura en celcius: 25\n",
            "Escribir la segunda temperatura en celcius: 50\n",
            "Escribir el volumen en L: 5\n",
            "El nuevo volumen es de:  5.419463087248322 L\n"
          ]
        }
      ]
    },
    {
      "cell_type": "markdown",
      "source": [
        "7.2. Si un gas ocupa un volumen de 2 litros a 0 °C, ¿cuál será el volumen a 100 °C si la presión se\n",
        "mantiene constante?"
      ],
      "metadata": {
        "id": "CJ0ZDlkRxaQW"
      }
    },
    {
      "cell_type": "code",
      "source": [
        "T1 = float(input(\"Escribir la primera temperatura en celcius: \"))\n",
        "T2 = float(input(\"Escribir la segunda temperatura en celcius: \"))\n",
        "V1 = float(input(\"Escribir el volumen en L: \"))\n",
        "T1 = T1 + 273\n",
        "T2 = T2 + 273\n",
        "\n",
        "def calcular_volumen(T1, T2, V1):\n",
        "  V2 = (V1 * T2) / T1\n",
        "  return V2\n",
        "\n",
        "print(\"El nuevo volumen es de: \", calcular_volumen(T1, T2, V1),\"L\")"
      ],
      "metadata": {
        "colab": {
          "base_uri": "https://localhost:8080/"
        },
        "id": "obHBK6UnRTnm",
        "outputId": "a74b751c-0890-4e3c-8ee4-8b4f8ee061b9"
      },
      "execution_count": 10,
      "outputs": [
        {
          "output_type": "stream",
          "name": "stdout",
          "text": [
            "Escribir la primera temperatura en celcius: 0\n",
            "Escribir la segunda temperatura en celcius: 2\n",
            "Escribir el volumen en L: 100\n",
            "El nuevo volumen es de:  100.73260073260073 L\n"
          ]
        }
      ]
    },
    {
      "cell_type": "markdown",
      "source": [
        "## **8. Ley de Boyle-Mariotte:**"
      ],
      "metadata": {
        "id": "SNdC8j_3sB2D"
      }
    },
    {
      "cell_type": "markdown",
      "source": [
        "8.1. Un gas ocupa 2 litros a una presión de 3 atmósferas. Si se comprime a 1 litro, ¿cuál será la\n",
        "nueva presión a temperatura constante?"
      ],
      "metadata": {
        "id": "qk8uRAg9SWhX"
      }
    },
    {
      "cell_type": "code",
      "source": [
        "P1 = float(input(\"Escribir la presion en atm: \"))\n",
        "V1 = float(input(\"Escribir el primer volumen en L: \"))\n",
        "V2 = float(input(\"Escribir el primer volumen en L: \"))\n",
        "\n",
        "def calcular_presion(P1, V1, V2):\n",
        "  P2 = (V1 * P1) / V2\n",
        "  return P2\n",
        "print(\"La nueva presion es: \",calcular_presion(P1, V1,V2),\"atm\")"
      ],
      "metadata": {
        "colab": {
          "base_uri": "https://localhost:8080/"
        },
        "id": "1tVJkT45SVhn",
        "outputId": "dcfc64ba-4d45-4f5d-8a89-288be888f641"
      },
      "execution_count": 11,
      "outputs": [
        {
          "output_type": "stream",
          "name": "stdout",
          "text": [
            "Escribir la presion en atm: 3\n",
            "Escribir el primer volumen en L: 2\n",
            "Escribir el primer volumen en L: 1\n",
            "La nueva presion es:  6.0 atm\n"
          ]
        }
      ]
    },
    {
      "cell_type": "markdown",
      "source": [
        "8.2. Si un gas a 2 atmósferas de presión ocupa un volumen de 10 litros, ¿cuál sería el nuevo\n",
        "volumen si la presión se duplica?"
      ],
      "metadata": {
        "id": "2DKdWfVvTYGc"
      }
    },
    {
      "cell_type": "code",
      "source": [
        "P1 = float(input(\"Escribir la presion en atm: \"))\n",
        "V1 = float(input(\"Escribir el primer volumen en L: \"))\n",
        "V2 = float(input(\"Escribir el primer volumen en L: \"))\n",
        "\n",
        "def calcular_presion(P1, V1, V2):\n",
        "  P2 = (V1 * P1) / V2\n",
        "  return P2\n",
        "print(\"La nueva presion es: \",calcular_presion(P1, V1,V2),\"atm\")"
      ],
      "metadata": {
        "colab": {
          "base_uri": "https://localhost:8080/"
        },
        "id": "jW9rlh4NTZCy",
        "outputId": "a7180b77-6a77-456a-c381-090de1be7175"
      },
      "execution_count": 12,
      "outputs": [
        {
          "output_type": "stream",
          "name": "stdout",
          "text": [
            "Escribir la presion en atm: 2\n",
            "Escribir el primer volumen en L: 10\n",
            "Escribir el primer volumen en L: 4\n",
            "La nueva presion es:  5.0 atm\n"
          ]
        }
      ]
    },
    {
      "cell_type": "markdown",
      "source": [
        "## **9. Ley de las presiones parciales de Dalton:**"
      ],
      "metadata": {
        "id": "_83FVG4GsEbD"
      }
    },
    {
      "cell_type": "markdown",
      "source": [
        "9.1. Un recipiente contiene oxígeno (O2) y nitrógeno (N2) a una presión total de 3 atmósferas. Si\n",
        "la presión parcial de O2 es de 1 atmósfera, ¿cuál es la presión parcial de N2?"
      ],
      "metadata": {
        "id": "HeZXDk9STxjz"
      }
    },
    {
      "cell_type": "code",
      "source": [
        "PT = float(input(\"Escribir la presion total en atm: \"))\n",
        "P1 = float(input(\"Escribir la presion parcial en atm: \"))\n",
        "\n",
        "def cal_presion_par(P1, PT):\n",
        "  P2 = PT - P1\n",
        "  return P2\n",
        "print(\"La presion parcial del N2 es: \", cal_presion_par(P1, PT),\"atm\")"
      ],
      "metadata": {
        "colab": {
          "base_uri": "https://localhost:8080/"
        },
        "id": "4tK5EYwUU_ib",
        "outputId": "ece26c25-173d-4941-f1d5-38105fd08ccb"
      },
      "execution_count": 16,
      "outputs": [
        {
          "output_type": "stream",
          "name": "stdout",
          "text": [
            "Escribir la presion total en atm: 3\n",
            "Escribir la presion parcial en atm: 1\n",
            "La presion parcial del N2 es:  2.0 atm\n"
          ]
        }
      ]
    },
    {
      "cell_type": "markdown",
      "source": [
        "9.2. En un recipiente, la presión parcial de hidrógeno (H2) es de 0.2 atmósferas, la del oxígeno\n",
        "(O2) es de 0.5 atmósferas y la del nitrógeno (N2) es de 0.3 atmósferas. ¿Cuál es la presión total\n",
        "en el recipiente?"
      ],
      "metadata": {
        "id": "1Wr_p1maXCFC"
      }
    },
    {
      "cell_type": "code",
      "source": [
        "P1 = float(input(\"Escribir la primer presion parcial en atm: \"))\n",
        "P2 = float(input(\"Escribir la segunda presion parcial en atm: \"))\n",
        "P3 = float(input(\"Escribir la tercer presion parcial en atm: \"))\n",
        "\n",
        "def cal_presion_tot(P1, P2, P3):\n",
        "  PT = P2 + P1 + P3\n",
        "  return PT\n",
        "print(\"La presion total es: \", cal_presion_tot(P1, P2, P3),\"atm\")"
      ],
      "metadata": {
        "colab": {
          "base_uri": "https://localhost:8080/"
        },
        "id": "pceVeD2RXDkE",
        "outputId": "c54a6ccc-9c47-488b-e8f5-f7e06bf01138"
      },
      "execution_count": 21,
      "outputs": [
        {
          "output_type": "stream",
          "name": "stdout",
          "text": [
            "Escribir la primer presion parcial en atm: 0.2\n",
            "Escribir la segunda presion parcial en atm: 0.5\n",
            "Escribir la tercer presion parcial en atm: 0.3\n",
            "La presion total es:  1.0 atm\n"
          ]
        }
      ]
    },
    {
      "cell_type": "markdown",
      "source": [
        "## **10. Gases Reales:**"
      ],
      "metadata": {
        "id": "fJawh21zsH_s"
      }
    },
    {
      "cell_type": "markdown",
      "source": [
        "10.1. Si 2 moles de un gas real ocupan 3 litros a 300 K y 2 atmósferas de presión, ¿cuál es el factor\n",
        "de compresibilidad (Z) del gas?"
      ],
      "metadata": {
        "id": "pnbAIyaaYuwu"
      }
    },
    {
      "cell_type": "code",
      "source": [
        "V = float(input(\"Escribir el volumen en L: \"))\n",
        "T = float(input(\"Escribir la temperatura en Kelvins: \"))\n",
        "n = float(input(\"Escribir n en moles: \"))\n",
        "P = float(input(\"Escribir la presion en atmosferas: \"))\n",
        "R = 0.082\n",
        "\n",
        "def calcular_compresibilidad(V, T, n, P, R):\n",
        "  Z = (P * V) / (n * R * T)\n",
        "  return Z\n",
        "print(\"El factor de compresibilidad: \", calcular_compresibilidad(V, T, n, P, R))"
      ],
      "metadata": {
        "colab": {
          "base_uri": "https://localhost:8080/"
        },
        "id": "-FRXxYY8YuM7",
        "outputId": "33b86129-a5ed-4d42-96fe-7c4b210615aa"
      },
      "execution_count": 22,
      "outputs": [
        {
          "output_type": "stream",
          "name": "stdout",
          "text": [
            "Escribir el volumen en L: 3\n",
            "Escribir la temperatura en Kelvins: 300\n",
            "Escribir n en moles: 2\n",
            "Escribir la presion en atmosferas: 2\n",
            "El factor de compresibilidad:  0.12195121951219512\n"
          ]
        }
      ]
    },
    {
      "cell_type": "markdown",
      "source": [
        "10.3. Si 3 moles de un gas real a 400 K y 5 atmósferas ocupan un volumen de 10 litros, ¿cuál es\n",
        "el factor de compresibilidad (Z) en este caso?"
      ],
      "metadata": {
        "id": "dpI3R5AJad79"
      }
    },
    {
      "cell_type": "code",
      "source": [
        "V = float(input(\"Escribir el volumen en L: \"))\n",
        "T = float(input(\"Escribir la temperatura en Kelvins: \"))\n",
        "n = float(input(\"Escribir n en moles: \"))\n",
        "P = float(input(\"Escribir la presion en atmosferas: \"))\n",
        "R = 0.082\n",
        "\n",
        "def calcular_compresibilidad(V, T, n, P, R):\n",
        "  Z = (P * V) / (n * R * T)\n",
        "  return Z\n",
        "print(\"El factor de compresibilidad: \", calcular_compresibilidad(V, T, n, P, R))"
      ],
      "metadata": {
        "colab": {
          "base_uri": "https://localhost:8080/"
        },
        "id": "RHDxlyx0aeVL",
        "outputId": "20bbcc0b-a807-439f-ecbb-abc663712a99"
      },
      "execution_count": 26,
      "outputs": [
        {
          "output_type": "stream",
          "name": "stdout",
          "text": [
            "Escribir el volumen en L: 10\n",
            "Escribir la temperatura en Kelvins: 400\n",
            "Escribir n en moles: 3\n",
            "Escribir la presion en atmosferas: 5\n",
            "El factor de compresibilidad:  0.5081300813008129\n"
          ]
        }
      ]
    }
  ],
  "metadata": {
    "colab": {
      "provenance": [],
      "authorship_tag": "ABX9TyMpmzWTywsPulHpPdX/BtcV",
      "include_colab_link": true
    },
    "kernelspec": {
      "display_name": "Python 3",
      "name": "python3"
    },
    "language_info": {
      "name": "python"
    }
  },
  "nbformat": 4,
  "nbformat_minor": 0
}